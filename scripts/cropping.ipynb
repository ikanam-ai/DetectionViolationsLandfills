{
  "cells": [
    {
      "cell_type": "code",
      "execution_count": 5,
      "metadata": {
        "id": "he7quB70zgp5"
      },
      "outputs": [],
      "source": [
        "from PIL import Image\n",
        "from itertools import product\n",
        "import os\n",
        "from tqdm import tqdm\n",
        "from multiprocessing import Pool\n",
        "import multiprocessing\n",
        "\n",
        "Image.MAX_IMAGE_PIXELS = None"
      ]
    },
    {
      "cell_type": "code",
      "execution_count": 41,
      "metadata": {},
      "outputs": [],
      "source": [
        "from PIL import Image\n",
        "photo = Image.open(r\"D:\\repos\\lct_2023\\yolo8v\\cropped\\p1.jpg\")"
      ]
    },
    {
      "cell_type": "code",
      "execution_count": 17,
      "metadata": {
        "id": "jCJc1bIFz06Y"
      },
      "outputs": [],
      "source": [
        "def tile(photo):\n",
        "    w, h = photo.size\n",
        "    grid = product(range(0, h - (h % (h//3)), h//3), range(0, w- (w % (w // 6)), w//6))\n",
        "    for num, (i, j) in enumerate(grid):\n",
        "        box = (j, i, j+ h//3, i+w//6)\n",
        "        out = r'D:\\repos\\lct_2023\\yolo8v\\cropped'\n",
        "        photo.crop(box).resize((1440,900), Image.Resampling.LANCZOS).save(rf'D:\\repos\\lct_2023\\yolo8v\\cropped\\png{num}.jpg')\n"
      ]
    },
    {
      "cell_type": "code",
      "execution_count": 47,
      "metadata": {},
      "outputs": [],
      "source": [
        "from PIL import Image\n",
        "from itertools import product\n",
        "\n",
        "def combine_photos(cropped_photos, canvas_size):\n",
        "    combined_image = Image.new('RGB', canvas_size)\n",
        "\n",
        "    for cropped_photo in cropped_photos:\n",
        "        photo = cropped_photo['photo']\n",
        "        position = cropped_photo['position']\n",
        "        box = (position[0], position[1], position[0] + photo.width, position[1] + photo.height)\n",
        "        combined_image.paste(photo, box)\n",
        "\n",
        "    return combined_image\n",
        "\n",
        "def tile(photo):\n",
        "    w, h = photo.size\n",
        "    cropped_photos = []\n",
        "\n",
        "    grid = product(range(0, h - (h % (h//3)), h//3), range(0, w- (w % (w // 6)), w//6))\n",
        "    for num, (i, j) in enumerate(grid):\n",
        "        box = (j, i, j + h//3, i + w//6)\n",
        "        cropped_photo = photo.crop(box).resize((1440, 900), Image.Resampling.LANCZOS)\n",
        "        cropped_photos.append({\n",
        "            'photo': cropped_photo,\n",
        "            'position': (j, i)\n",
        "        })\n",
        "\n",
        "    combined_image = combine_photos(cropped_photos, photo.size)\n",
        "    combined_image.save(r'D:\\repos\\lct_2023\\yolo8v\\temp.jpg')\n"
      ]
    },
    {
      "cell_type": "code",
      "execution_count": null,
      "metadata": {},
      "outputs": [],
      "source": []
    }
  ],
  "metadata": {
    "colab": {
      "name": "Добро пожаловать в Colaboratory!",
      "provenance": []
    },
    "kernelspec": {
      "display_name": "Python 3",
      "name": "python3"
    },
    "language_info": {
      "codemirror_mode": {
        "name": "ipython",
        "version": 3
      },
      "file_extension": ".py",
      "mimetype": "text/x-python",
      "name": "python",
      "nbconvert_exporter": "python",
      "pygments_lexer": "ipython3",
      "version": "3.8.10"
    }
  },
  "nbformat": 4,
  "nbformat_minor": 0
}

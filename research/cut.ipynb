{
  "cells": [
    {
      "cell_type": "code",
      "execution_count": 2,
      "metadata": {
        "id": "he7quB70zgp5"
      },
      "outputs": [],
      "source": [
        "from PIL import Image\n",
        "from itertools import product\n",
        "import os\n",
        "from tqdm import tqdm\n",
        "from multiprocessing import Pool\n",
        "import multiprocessing"
      ]
    },
    {
      "cell_type": "code",
      "execution_count": 9,
      "metadata": {},
      "outputs": [
        {
          "name": "stdout",
          "output_type": "stream",
          "text": [
            "Requirement already satisfied: multiprocess in c:\\users\\andrey\\appdata\\local\\programs\\python\\python310\\lib\\site-packages (0.70.14)Note: you may need to restart the kernel to use updated packages.\n"
          ]
        },
        {
          "name": "stderr",
          "output_type": "stream",
          "text": [
            "WARNING: You are using pip version 22.0.4; however, version 23.1.2 is available.\n",
            "You should consider upgrading via the 'c:\\Users\\Andrey\\AppData\\Local\\Programs\\Python\\Python310\\python.exe -m pip install --upgrade pip' command.\n"
          ]
        },
        {
          "name": "stdout",
          "output_type": "stream",
          "text": [
            "\n",
            "Requirement already satisfied: dill>=0.3.6 in c:\\users\\andrey\\appdata\\local\\programs\\python\\python310\\lib\\site-packages (from multiprocess) (0.3.6)\n"
          ]
        }
      ],
      "source": [
        "pip install multiprocess"
      ]
    },
    {
      "cell_type": "code",
      "execution_count": 10,
      "metadata": {
        "colab": {
          "base_uri": "https://localhost:8080/"
        },
        "id": "1JxNByh20uie",
        "outputId": "c6d021ad-3be1-4fe1-8636-76d4e8ca80d9"
      },
      "outputs": [
        {
          "name": "stdout",
          "output_type": "stream",
          "text": [
            "Requirement already satisfied: pillow==9.5.0 in c:\\users\\andrey\\appdata\\local\\programs\\python\\python310\\lib\\site-packages (9.5.0)\n",
            "Note: you may need to restart the kernel to use updated packages.\n"
          ]
        },
        {
          "name": "stderr",
          "output_type": "stream",
          "text": [
            "WARNING: You are using pip version 22.0.4; however, version 23.1.2 is available.\n",
            "You should consider upgrading via the 'c:\\Users\\Andrey\\AppData\\Local\\Programs\\Python\\Python310\\python.exe -m pip install --upgrade pip' command.\n"
          ]
        }
      ],
      "source": [
        "pip install pillow==9.5.0\n"
      ]
    },
    {
      "cell_type": "code",
      "execution_count": 29,
      "metadata": {},
      "outputs": [],
      "source": [
        "mkdir data_out_1"
      ]
    },
    {
      "cell_type": "code",
      "execution_count": 30,
      "metadata": {
        "id": "jCJc1bIFz06Y"
      },
      "outputs": [],
      "source": [
        "def tile():\n",
        "    dir_out = 'data_out_1'\n",
        "    d = 4000\n",
        "    for dir_in in tqdm(os.listdir()[:-2]):\n",
        "        try:\n",
        "            for filename in ['p1.jpg', 'p2.jpg', 'p3.jpg', 'p4.jpg', 'p5.jpg',][1:2]:\n",
        "                name, ext = os.path.splitext(filename)\n",
        "                img = Image.open(os.path.join(dir_in, filename))\n",
        "                w, h = img.size\n",
        "        \n",
        "                grid = product(range(4100, h-h%d, d), range(210, w-w%d, d))\n",
        "                for i, j in grid:\n",
        "                    box = (j, i, j+d, i+d)\n",
        "                    out = os.path.join(dir_out, f'{dir_in}_{name}_{i}_{j}{ext}')\n",
        "                    img.crop(box).resize((1440,900), Image.Resampling.LANCZOS).save(out)\n",
        "        except:\n",
        "            for filename in ['1.jpg', '2.jpg', '3.jpg', '4.jpg', '5.jpg',][1:2]:\n",
        "                name, ext = os.path.splitext(filename)\n",
        "                img = Image.open(os.path.join(dir_in, filename))\n",
        "                w, h = img.size\n",
        "        \n",
        "                grid = product(range(4100, h-h%d, d), range(210, w-w%d, d))\n",
        "                for i, j in grid:\n",
        "                    box = (j, i, j+d, i+d)\n",
        "                    out = os.path.join(dir_out, f'{dir_in}_{name}_{i}_{j}{ext}')\n",
        "                    img.crop(box).resize((1440,900), Image.Resampling.LANCZOS).save(out)"
      ]
    },
    {
      "cell_type": "code",
      "execution_count": 41,
      "metadata": {},
      "outputs": [
        {
          "name": "stderr",
          "output_type": "stream",
          "text": [
            "100%|██████████| 24/24 [02:11<00:00,  5.48s/it]\n"
          ]
        }
      ],
      "source": [
        "tile()"
      ]
    },
    {
      "cell_type": "code",
      "execution_count": 32,
      "metadata": {},
      "outputs": [],
      "source": [
        "mkdir data_out_2"
      ]
    },
    {
      "cell_type": "code",
      "execution_count": 33,
      "metadata": {},
      "outputs": [],
      "source": [
        "def tile():\n",
        "    dir_out = 'data_out_2'\n",
        "    d = 4000\n",
        "    for dir_in in tqdm(os.listdir()[:-4]):\n",
        "        try:\n",
        "            for filename in ['p1.jpg', 'p2.jpg', 'p3.jpg', 'p4.jpg', 'p5.jpg',][2:3]:\n",
        "                name, ext = os.path.splitext(filename)\n",
        "                img = Image.open(os.path.join(dir_in, filename))\n",
        "                w, h = img.size\n",
        "        \n",
        "                grid = product(range(4100, h-h%d, d), range(210, w-w%d, d))\n",
        "                for i, j in grid:\n",
        "                    box = (j, i, j+d, i+d)\n",
        "                    out = os.path.join(dir_out, f'{dir_in}_{name}_{i}_{j}{ext}')\n",
        "                    img.crop(box).resize((1440,900), Image.Resampling.LANCZOS).save(out)\n",
        "        except:\n",
        "            for filename in ['1.jpg', '2.jpg', '3.jpg', '4.jpg', '5.jpg',][2:3]:\n",
        "                name, ext = os.path.splitext(filename)\n",
        "                img = Image.open(os.path.join(dir_in, filename))\n",
        "                w, h = img.size\n",
        "        \n",
        "                grid = product(range(4100, h-h%d, d), range(210, w-w%d, d))\n",
        "                for i, j in grid:\n",
        "                    box = (j, i, j+d, i+d)\n",
        "                    out = os.path.join(dir_out, f'{dir_in}_{name}_{i}_{j}{ext}')\n",
        "                    img.crop(box).resize((1440,900), Image.Resampling.LANCZOS).save(out)"
      ]
    },
    {
      "cell_type": "code",
      "execution_count": 47,
      "metadata": {},
      "outputs": [
        {
          "name": "stderr",
          "output_type": "stream",
          "text": [
            "100%|██████████| 102/102 [00:00<?, ?it/s]\n"
          ]
        }
      ],
      "source": [
        "tile()"
      ]
    },
    {
      "cell_type": "code",
      "execution_count": 45,
      "metadata": {},
      "outputs": [],
      "source": [
        "mkdir data_out_5"
      ]
    },
    {
      "cell_type": "code",
      "execution_count": 46,
      "metadata": {},
      "outputs": [],
      "source": [
        "def tile():\n",
        "    dir_out = 'data_out_5'\n",
        "    d = 4000\n",
        "    for dir_in in tqdm(os.listdir()[:-7]):\n",
        "        try:\n",
        "            for filename in ['p1.jpg', 'p2.jpg', 'p3.jpg', 'p4.jpg', 'p5.jpg',][5:]:\n",
        "                name, ext = os.path.splitext(filename)\n",
        "                img = Image.open(os.path.join(dir_in, filename))\n",
        "                w, h = img.size\n",
        "        \n",
        "                grid = product(range(4100, h-h%d, d), range(210, w-w%d, d))\n",
        "                for i, j in grid:\n",
        "                    box = (j, i, j+d, i+d)\n",
        "                    out = os.path.join(dir_out, f'{dir_in}_{name}_{i}_{j}{ext}')\n",
        "                    img.crop(box).resize((1440,900), Image.Resampling.LANCZOS).save(out)\n",
        "        except:\n",
        "            for filename in ['1.jpg', '2.jpg', '3.jpg', '4.jpg', '5.jpg',][5:]:\n",
        "                name, ext = os.path.splitext(filename)\n",
        "                img = Image.open(os.path.join(dir_in, filename))\n",
        "                w, h = img.size\n",
        "        \n",
        "                grid = product(range(4100, h-h%d, d), range(210, w-w%d, d))\n",
        "                for i, j in grid:\n",
        "                    box = (j, i, j+d, i+d)\n",
        "                    out = os.path.join(dir_out, f'{dir_in}_{name}_{i}_{j}{ext}')\n",
        "                    img.crop(box).resize((1440,900), Image.Resampling.LANCZOS).save(out)"
      ]
    },
    {
      "cell_type": "code",
      "execution_count": 3,
      "metadata": {},
      "outputs": [
        {
          "data": {
            "text/plain": [
              "16"
            ]
          },
          "execution_count": 3,
          "metadata": {},
          "output_type": "execute_result"
        }
      ],
      "source": [
        "multiprocessing.cpu_count()"
      ]
    },
    {
      "cell_type": "code",
      "execution_count": 8,
      "metadata": {},
      "outputs": [
        {
          "name": "stdout",
          "output_type": "stream",
          "text": [
            "строк: 103\n",
            "ядер: 16\n"
          ]
        }
      ],
      "source": [
        "print(f\"строк: {len(os.listdir()[:-1])}\")\n",
        "print(f\"ядер: {multiprocessing.cpu_count()}\")"
      ]
    },
    {
      "cell_type": "code",
      "execution_count": 11,
      "metadata": {},
      "outputs": [],
      "source": [
        "paralell_dir = [range(7*i, 7*(i+1)) for i in range(multiprocessing.cpu_count())]"
      ]
    },
    {
      "cell_type": "code",
      "execution_count": 12,
      "metadata": {},
      "outputs": [
        {
          "data": {
            "text/plain": [
              "[range(0, 7),\n",
              " range(7, 14),\n",
              " range(14, 21),\n",
              " range(21, 28),\n",
              " range(28, 35),\n",
              " range(35, 42),\n",
              " range(42, 49),\n",
              " range(49, 56),\n",
              " range(56, 63),\n",
              " range(63, 70),\n",
              " range(70, 77),\n",
              " range(77, 84),\n",
              " range(84, 91),\n",
              " range(91, 98),\n",
              " range(98, 105),\n",
              " range(105, 112)]"
            ]
          },
          "execution_count": 12,
          "metadata": {},
          "output_type": "execute_result"
        }
      ],
      "source": [
        "paralell_dir"
      ]
    },
    {
      "cell_type": "code",
      "execution_count": 19,
      "metadata": {},
      "outputs": [
        {
          "name": "stdout",
          "output_type": "stream",
          "text": [
            "0\n",
            "1\n",
            "2\n",
            "3\n",
            "4\n",
            "5\n",
            "6\n",
            "7\n",
            "8\n",
            "9\n",
            "10\n",
            "11\n",
            "12\n",
            "13\n",
            "14\n",
            "15\n"
          ]
        }
      ],
      "source": [
        "def tile(paralell_dir, d):\n",
        "    dir_out = 'data_out'\n",
        "    for dir_in in tqdm(os.listdir()[:-1][paralell_dir]):\n",
        "        for filename in ['p1.jpg', 'p2.jpg', 'p3.jpg', 'p4.jpg', 'p5.jpg',][:1]:\n",
        "            name, ext = os.path.splitext(filename)\n",
        "            img = Image.open(os.path.join(dir_in, filename))\n",
        "            w, h = img.size\n",
        "    \n",
        "            grid = product(range(4100, h-h%d, d), range(210, w-w%d, d))\n",
        "            for i, j in grid:\n",
        "                box = (j, i, j+d, i+d)\n",
        "                out = os.path.join(dir_out, f'{dir_in}_{name}_{i}_{j}{ext}')\n",
        "                img.crop(box).resize((1440,900), Image.Resampling.LANCZOS).save(out)\n",
        "\n",
        "def tile_no_multiprocessing():\n",
        "    # Определяем количество ядер\n",
        "    num_cores = multiprocessing.cpu_count()\n",
        "\n",
        "    # Определяем размеры тайлов\n",
        "    d = 4000\n",
        "\n",
        "    # Создаем отдельный процесс для каждого ядра в цикле\n",
        "    processes = []\n",
        "    for i in range(num_cores):\n",
        "        print(i)\n",
        "        # Задаем параметры для функции tile\n",
        "        d = d\n",
        "\n",
        "        # Запускаем процесс\n",
        "        p = multiprocessing.Process(target=tile, args=(paralell_dir[i], d))\n",
        "        p.start()\n",
        "        processes.append(p)\n",
        "\n",
        "    # Дождаться завершения всех процессов\n",
        "    for process in processes:\n",
        "        process.join()\n",
        "\n",
        "# Запускаем функцию без использования multiprocessing\n",
        "tile_no_multiprocessing()"
      ]
    },
    {
      "cell_type": "code",
      "execution_count": 17,
      "metadata": {},
      "outputs": [
        {
          "data": {
            "text/plain": [
              "'c:\\\\Users\\\\Andrey\\\\Downloads\\\\images\\\\dron_data'"
            ]
          },
          "execution_count": 17,
          "metadata": {},
          "output_type": "execute_result"
        }
      ],
      "source": [
        "pwd"
      ]
    },
    {
      "cell_type": "code",
      "execution_count": 5,
      "metadata": {},
      "outputs": [
        {
          "name": "stdout",
          "output_type": "stream",
          "text": [
            "c:\\Users\\Andrey\\Downloads\n"
          ]
        }
      ],
      "source": [
        " cd .."
      ]
    },
    {
      "cell_type": "code",
      "execution_count": 6,
      "metadata": {},
      "outputs": [
        {
          "name": "stdout",
          "output_type": "stream",
          "text": [
            "c:\\Users\\Andrey\\Downloads\\images\n"
          ]
        }
      ],
      "source": [
        "cd images"
      ]
    },
    {
      "cell_type": "code",
      "execution_count": 7,
      "metadata": {},
      "outputs": [
        {
          "name": "stdout",
          "output_type": "stream",
          "text": [
            "c:\\Users\\Andrey\\Downloads\\images\\dron_data\n"
          ]
        }
      ],
      "source": [
        "cd dron_data"
      ]
    },
    {
      "cell_type": "code",
      "execution_count": 21,
      "metadata": {
        "id": "N8zdABqyz1zM"
      },
      "outputs": [
        {
          "name": "stderr",
          "output_type": "stream",
          "text": [
            "100%|██████████| 5/5 [00:42<00:00,  8.60s/it]\n",
            "100%|██████████| 5/5 [00:47<00:00,  9.50s/it]/it]\n",
            "100%|██████████| 5/5 [00:53<00:00, 10.78s/it]/it]\n",
            "100%|██████████| 5/5 [00:59<00:00, 11.85s/it]/it]\n",
            "100%|██████████| 5/5 [00:58<00:00, 11.69s/it]/it]\n",
            "100%|██████████| 5/5 [04:57<00:00, 59.41s/it]/it]\n",
            "100%|██████████| 5/5 [01:00<00:00, 12.20s/it]s/it]\n",
            "100%|██████████| 5/5 [01:00<00:00, 12.08s/it]s/it]\n",
            "100%|██████████| 5/5 [01:07<00:00, 13.49s/it]/it] \n",
            "100%|██████████| 5/5 [01:10<00:00, 14.14s/it]/it]\n",
            "100%|██████████| 5/5 [01:16<00:00, 15.24s/it]s/it]\n",
            "100%|██████████| 5/5 [01:15<00:00, 15.02s/it]s/it]\n",
            "100%|██████████| 5/5 [01:12<00:00, 14.60s/it]s/it]\n",
            "100%|██████████| 5/5 [01:12<00:00, 14.54s/it]s/it]\n",
            "100%|██████████| 5/5 [01:16<00:00, 15.28s/it]s/it]\n",
            "100%|██████████| 5/5 [01:07<00:00, 13.41s/it]s/it]\n",
            "100%|██████████| 5/5 [01:12<00:00, 14.55s/it]s/it]\n",
            "100%|██████████| 5/5 [01:16<00:00, 15.29s/it]s/it]\n",
            "100%|██████████| 5/5 [01:20<00:00, 16.07s/it]s/it]\n",
            "100%|██████████| 5/5 [01:23<00:00, 16.66s/it]s/it]\n",
            "100%|██████████| 5/5 [01:16<00:00, 15.37s/it]s/it]\n",
            "100%|██████████| 5/5 [01:17<00:00, 15.53s/it]s/it]\n",
            "100%|██████████| 5/5 [01:15<00:00, 15.06s/it]s/it]\n",
            "100%|██████████| 5/5 [01:16<00:00, 15.34s/it]s/it]\n",
            "100%|██████████| 5/5 [01:13<00:00, 14.69s/it]s/it]\n",
            "100%|██████████| 5/5 [01:15<00:00, 15.13s/it]s/it]\n",
            "100%|██████████| 5/5 [01:15<00:00, 15.18s/it]s/it]\n",
            "100%|██████████| 5/5 [01:11<00:00, 14.34s/it]s/it]\n",
            "100%|██████████| 5/5 [01:13<00:00, 14.71s/it]s/it]\n",
            "100%|██████████| 5/5 [01:13<00:00, 14.77s/it]s/it]\n",
            "100%|██████████| 5/5 [01:10<00:00, 14.16s/it]s/it]\n",
            "100%|██████████| 5/5 [01:12<00:00, 14.48s/it]s/it]\n",
            "100%|██████████| 5/5 [01:13<00:00, 14.73s/it]s/it]\n",
            "100%|██████████| 5/5 [01:12<00:00, 14.54s/it]s/it]\n",
            "100%|██████████| 5/5 [01:12<00:00, 14.51s/it]s/it]\n",
            "100%|██████████| 5/5 [01:14<00:00, 14.97s/it]s/it]\n",
            "100%|██████████| 5/5 [01:11<00:00, 14.38s/it]s/it]\n",
            "100%|██████████| 5/5 [01:14<00:00, 14.92s/it]s/it]\n",
            "100%|██████████| 5/5 [01:13<00:00, 14.65s/it]s/it]\n",
            "100%|██████████| 5/5 [01:15<00:00, 15.17s/it]s/it]\n",
            "100%|██████████| 5/5 [01:13<00:00, 14.75s/it]s/it]\n",
            "100%|██████████| 5/5 [01:14<00:00, 14.95s/it]s/it]\n",
            "100%|██████████| 5/5 [01:11<00:00, 14.33s/it]s/it]\n",
            "100%|██████████| 5/5 [01:12<00:00, 14.54s/it]s/it]\n",
            "100%|██████████| 5/5 [01:14<00:00, 14.91s/it]s/it]\n",
            "100%|██████████| 5/5 [01:12<00:00, 14.59s/it]s/it]\n",
            "100%|██████████| 5/5 [01:17<00:00, 15.49s/it]s/it]\n",
            "100%|██████████| 5/5 [01:17<00:00, 15.57s/it]s/it]\n",
            "100%|██████████| 5/5 [01:11<00:00, 14.39s/it]61s/it]\n",
            "100%|██████████| 5/5 [01:14<00:00, 14.95s/it]52s/it]\n",
            "100%|██████████| 5/5 [01:16<00:00, 15.31s/it]59s/it]\n",
            "100%|██████████| 5/5 [01:09<00:00, 13.84s/it]18s/it]\n",
            "100%|██████████| 5/5 [01:14<00:00, 14.83s/it]39s/it]\n",
            "100%|██████████| 5/5 [01:14<00:00, 14.83s/it]62s/it]\n",
            "100%|██████████| 5/5 [01:16<00:00, 15.32s/it]s/it]  \n",
            "100%|██████████| 5/5 [01:14<00:00, 14.83s/it]s/it]\n",
            "100%|██████████| 5/5 [01:15<00:00, 15.04s/it]s/it]\n",
            "100%|██████████| 5/5 [01:15<00:00, 15.12s/it]s/it]\n",
            "100%|██████████| 5/5 [01:09<00:00, 13.88s/it]s/it]\n",
            "100%|██████████| 5/5 [01:09<00:00, 13.93s/it]s/it]\n",
            "100%|██████████| 5/5 [01:17<00:00, 15.41s/it]s/it]\n",
            "100%|██████████| 5/5 [01:14<00:00, 14.85s/it]s/it]\n",
            "100%|██████████| 5/5 [01:16<00:00, 15.30s/it]s/it]\n",
            "100%|██████████| 5/5 [01:04<00:00, 12.83s/it]s/it]\n",
            "100%|██████████| 5/5 [01:11<00:00, 14.21s/it]s/it]\n",
            "100%|██████████| 5/5 [01:15<00:00, 15.14s/it]s/it]\n",
            "100%|██████████| 5/5 [01:14<00:00, 14.91s/it]s/it]\n",
            "100%|██████████| 5/5 [01:17<00:00, 15.40s/it]s/it]\n",
            "100%|██████████| 5/5 [01:15<00:00, 15.04s/it]s/it]\n",
            "100%|██████████| 5/5 [01:17<00:00, 15.59s/it]s/it]\n",
            "100%|██████████| 5/5 [01:13<00:00, 14.74s/it]s/it]\n",
            "100%|██████████| 5/5 [01:18<00:00, 15.67s/it]s/it]\n",
            "100%|██████████| 5/5 [01:13<00:00, 14.78s/it]s/it]\n",
            "100%|██████████| 5/5 [01:15<00:00, 15.07s/it]s/it]\n",
            "100%|██████████| 5/5 [01:12<00:00, 14.42s/it]s/it]\n",
            "100%|██████████| 5/5 [01:17<00:00, 15.44s/it]s/it]\n",
            "100%|██████████| 5/5 [01:13<00:00, 14.76s/it]s/it]\n",
            "100%|██████████| 5/5 [01:14<00:00, 14.82s/it]s/it]\n",
            "  0%|          | 0/5 [00:00<?, ?it/s]0, 74.60s/it]\n",
            " 76%|███████▋  | 78/102 [1:37:54<30:07, 75.32s/it]\n"
          ]
        },
        {
          "ename": "FileNotFoundError",
          "evalue": "[Errno 2] No such file or directory: '408\\\\p1.jpg'",
          "output_type": "error",
          "traceback": [
            "\u001b[1;31m---------------------------------------------------------------------------\u001b[0m",
            "\u001b[1;31mFileNotFoundError\u001b[0m                         Traceback (most recent call last)",
            "\u001b[1;32mc:\\Users\\Andrey\\Downloads\\Telegram Desktop\\cut.ipynb Cell 12\u001b[0m in \u001b[0;36m3\n\u001b[0;32m      <a href='vscode-notebook-cell:/c%3A/Users/Andrey/Downloads/Telegram%20Desktop/cut.ipynb#W3sZmlsZQ%3D%3D?line=0'>1</a>\u001b[0m \u001b[39mfor\u001b[39;00m dir_path \u001b[39min\u001b[39;00m tqdm(os\u001b[39m.\u001b[39mlistdir()[:\u001b[39m-\u001b[39m\u001b[39m2\u001b[39m]):\n\u001b[0;32m      <a href='vscode-notebook-cell:/c%3A/Users/Andrey/Downloads/Telegram%20Desktop/cut.ipynb#W3sZmlsZQ%3D%3D?line=1'>2</a>\u001b[0m     \u001b[39mfor\u001b[39;00m name \u001b[39min\u001b[39;00m tqdm([\u001b[39m'\u001b[39m\u001b[39mp1.jpg\u001b[39m\u001b[39m'\u001b[39m, \u001b[39m'\u001b[39m\u001b[39mp2.jpg\u001b[39m\u001b[39m'\u001b[39m, \u001b[39m'\u001b[39m\u001b[39mp3.jpg\u001b[39m\u001b[39m'\u001b[39m, \u001b[39m'\u001b[39m\u001b[39mp4.jpg\u001b[39m\u001b[39m'\u001b[39m, \u001b[39m'\u001b[39m\u001b[39mp5.jpg\u001b[39m\u001b[39m'\u001b[39m,]):\n\u001b[1;32m----> <a href='vscode-notebook-cell:/c%3A/Users/Andrey/Downloads/Telegram%20Desktop/cut.ipynb#W3sZmlsZQ%3D%3D?line=2'>3</a>\u001b[0m         tile(name, dir_path, \u001b[39m'\u001b[39;49m\u001b[39mdata_out\u001b[39;49m\u001b[39m'\u001b[39;49m, \u001b[39m4000\u001b[39;49m)\n",
            "\u001b[1;32mc:\\Users\\Andrey\\Downloads\\Telegram Desktop\\cut.ipynb Cell 12\u001b[0m in \u001b[0;36m3\n\u001b[0;32m      <a href='vscode-notebook-cell:/c%3A/Users/Andrey/Downloads/Telegram%20Desktop/cut.ipynb#W3sZmlsZQ%3D%3D?line=0'>1</a>\u001b[0m \u001b[39mdef\u001b[39;00m \u001b[39mtile\u001b[39m(filename, dir_in, dir_out, d):\n\u001b[0;32m      <a href='vscode-notebook-cell:/c%3A/Users/Andrey/Downloads/Telegram%20Desktop/cut.ipynb#W3sZmlsZQ%3D%3D?line=1'>2</a>\u001b[0m     name, ext \u001b[39m=\u001b[39m os\u001b[39m.\u001b[39mpath\u001b[39m.\u001b[39msplitext(filename)\n\u001b[1;32m----> <a href='vscode-notebook-cell:/c%3A/Users/Andrey/Downloads/Telegram%20Desktop/cut.ipynb#W3sZmlsZQ%3D%3D?line=2'>3</a>\u001b[0m     img \u001b[39m=\u001b[39m Image\u001b[39m.\u001b[39;49mopen(os\u001b[39m.\u001b[39;49mpath\u001b[39m.\u001b[39;49mjoin(dir_in, filename))\n\u001b[0;32m      <a href='vscode-notebook-cell:/c%3A/Users/Andrey/Downloads/Telegram%20Desktop/cut.ipynb#W3sZmlsZQ%3D%3D?line=3'>4</a>\u001b[0m     w, h \u001b[39m=\u001b[39m img\u001b[39m.\u001b[39msize\n\u001b[0;32m      <a href='vscode-notebook-cell:/c%3A/Users/Andrey/Downloads/Telegram%20Desktop/cut.ipynb#W3sZmlsZQ%3D%3D?line=5'>6</a>\u001b[0m     grid \u001b[39m=\u001b[39m product(\u001b[39mrange\u001b[39m(\u001b[39m0\u001b[39m, h\u001b[39m-\u001b[39mh\u001b[39m%\u001b[39md, d), \u001b[39mrange\u001b[39m(\u001b[39m0\u001b[39m, w\u001b[39m-\u001b[39mw\u001b[39m%\u001b[39md, d))\n",
            "File \u001b[1;32mc:\\Users\\Andrey\\AppData\\Local\\Programs\\Python\\Python310\\lib\\site-packages\\PIL\\Image.py:3222\u001b[0m, in \u001b[0;36mopen\u001b[1;34m(fp, mode, formats)\u001b[0m\n\u001b[0;32m   3219\u001b[0m     filename \u001b[39m=\u001b[39m fp\n\u001b[0;32m   3221\u001b[0m \u001b[39mif\u001b[39;00m filename:\n\u001b[1;32m-> 3222\u001b[0m     fp \u001b[39m=\u001b[39m builtins\u001b[39m.\u001b[39;49mopen(filename, \u001b[39m\"\u001b[39;49m\u001b[39mrb\u001b[39;49m\u001b[39m\"\u001b[39;49m)\n\u001b[0;32m   3223\u001b[0m     exclusive_fp \u001b[39m=\u001b[39m \u001b[39mTrue\u001b[39;00m\n\u001b[0;32m   3225\u001b[0m \u001b[39mtry\u001b[39;00m:\n",
            "\u001b[1;31mFileNotFoundError\u001b[0m: [Errno 2] No such file or directory: '408\\\\p1.jpg'"
          ]
        }
      ],
      "source": [
        "for dir_path in tqdm(os.listdir()[:-2]):\n",
        "    for name in tqdm(['p1.jpg', 'p2.jpg', 'p3.jpg', 'p4.jpg', 'p5.jpg',]):\n",
        "        tile(name, dir_path, 'data_out', 4000)"
      ]
    },
    {
      "cell_type": "code",
      "execution_count": 17,
      "metadata": {
        "colab": {
          "base_uri": "https://localhost:8080/",
          "height": 35
        },
        "id": "XHt30Ah43OMU",
        "outputId": "ba5f97ed-baff-4c82-9df1-0eb6a069072d"
      },
      "outputs": [
        {
          "ename": "SyntaxError",
          "evalue": "invalid syntax (2493448717.py, line 1)",
          "output_type": "error",
          "traceback": [
            "\u001b[1;36m  Cell \u001b[1;32mIn [17], line 1\u001b[1;36m\u001b[0m\n\u001b[1;33m    cp -r Image.py c:\\Users\\Andrey\\AppData\\Local\\Programs\\Python\\Python310\\lib\\site-packages\\PIL\\Image.py\u001b[0m\n\u001b[1;37m          ^\u001b[0m\n\u001b[1;31mSyntaxError\u001b[0m\u001b[1;31m:\u001b[0m invalid syntax\n"
          ]
        }
      ],
      "source": [
        "cp -r Image.py c:\\Users\\Andrey\\AppData\\Local\\Programs\\Python\\Python310\\lib\\site-packages\\PIL\\Image.py"
      ]
    }
  ],
  "metadata": {
    "colab": {
      "name": "Добро пожаловать в Colaboratory!",
      "provenance": []
    },
    "kernelspec": {
      "display_name": "Python 3",
      "name": "python3"
    },
    "language_info": {
      "codemirror_mode": {
        "name": "ipython",
        "version": 3
      },
      "file_extension": ".py",
      "mimetype": "text/x-python",
      "name": "python",
      "nbconvert_exporter": "python",
      "pygments_lexer": "ipython3",
      "version": "3.10.4"
    }
  },
  "nbformat": 4,
  "nbformat_minor": 0
}

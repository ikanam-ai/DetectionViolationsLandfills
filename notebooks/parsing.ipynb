{
 "cells": [
  {
   "cell_type": "code",
   "execution_count": 3,
   "metadata": {},
   "outputs": [
    {
     "name": "stdout",
     "output_type": "stream",
     "text": [
      "Checkboxes for 5 folder get errors!\n"
     ]
    }
   ],
   "source": [
    "import requests\n",
    "from selenium import webdriver\n",
    "from selenium.webdriver.common.keys import Keys\n",
    "import time\n",
    "\n",
    "# Set up Selenium WebDriver (make sure you have the appropriate WebDriver executable in your system PATH)\n",
    "driver = webdriver.Chrome()  # Replace with the appropriate WebDriver for your browser\n",
    "\n",
    "def download_selected_folders(url,password, folder_names):\n",
    "    driver.get(url)\n",
    "    \n",
    "    # Find the username and password input fields and action button # Replace with the actual name or ID of the username input field\n",
    "    password_input = driver.find_element('name', \"password\")  # Replace with the actual name or ID of the password input field\n",
    "    action_button = driver.find_element('xpath', \"//button[@type='submit']\")  # Replace with the actual ID of the login button\n",
    "    \n",
    "    # Enter the username and password\n",
    "    password_input.send_keys(password)\n",
    "    \n",
    "    # Click the action button to submit the login form\n",
    "    action_button.click()\n",
    "    \n",
    "    time.sleep(2)  # Wait for the page to load (you may need to adjust the waiting time)\n",
    "    \n",
    "    # Iterate over the folder names and select the corresponding checkboxes\n",
    "    # 1 - first checkbox of each folder\n",
    "    num_checkboxes = 0\n",
    "    while True:\n",
    "        try:\n",
    "            num_checkboxes += 1\n",
    "            checkbox_xpath = f\"//input[@type='checkbox']\"  # Replace with the appropriate XPath for the checkboxes\n",
    "            checkbox = driver.find_elements('xpath', checkbox_xpath)[num_checkboxes]\n",
    "            checkbox.click()\n",
    "            download_button = driver.find_element('xpath',  \"//button[@type='button']\")  # Replace with the actual ID of the download button\n",
    "            download_button.click()\n",
    "            time.sleep(15)\n",
    "            checkbox.click()\n",
    "            if num_checkboxes % 5 == 0:\n",
    "                print(f\"Checked checkboxes for {num_checkboxes} folders.\")\n",
    "        except:\n",
    "            print(f\"Checkboxes for {num_checkboxes} folder get errors!\")\n",
    "            break\n",
    "\n",
    "    # Click the download button\n",
    "   \n",
    "    # Wait for the download to complete (you may need to adjust the waiting time)\n",
    "    time.sleep(1200)\n",
    "    \n",
    "    # Close the browser\n",
    "    driver.quit()\n",
    "\n",
    "\n",
    "# Usage\n",
    "url = \"https://disk.reo.ru/d/890c6abeb20342ee9254/\"  # Replace with the URL of the site  # Replace with your username\n",
    "password = \"Wuzq8KZuBhoWMkm\"  # Replace with your password\n",
    "folders_to_download = [\"304\"]  # Replace with the names of the folders you want to download\n",
    "\n",
    "download_selected_folders(url, password, folders_to_download)\n"
   ]
  },
  {
   "cell_type": "code",
   "execution_count": null,
   "metadata": {},
   "outputs": [],
   "source": []
  }
 ],
 "metadata": {
  "kernelspec": {
   "display_name": "lct-bcRM5jbH-py3.8",
   "language": "python",
   "name": "python3"
  },
  "language_info": {
   "codemirror_mode": {
    "name": "ipython",
    "version": 3
   },
   "file_extension": ".py",
   "mimetype": "text/x-python",
   "name": "python",
   "nbconvert_exporter": "python",
   "pygments_lexer": "ipython3",
   "version": "3.8.10"
  },
  "orig_nbformat": 4
 },
 "nbformat": 4,
 "nbformat_minor": 2
}
